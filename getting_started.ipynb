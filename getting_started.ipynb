{
 "cells": [
  {
   "cell_type": "code",
   "execution_count": 1,
   "id": "9fbc47ab-e8c6-40e9-934f-110390c09761",
   "metadata": {},
   "outputs": [
    {
     "name": "stdout",
     "output_type": "stream",
     "text": [
      "Hello world\n"
     ]
    }
   ],
   "source": [
    "print('Hello world')"
   ]
  },
  {
   "cell_type": "code",
   "execution_count": 2,
   "id": "665abe2d-3de8-4239-86cf-c3debd3511d1",
   "metadata": {},
   "outputs": [],
   "source": [
    "import boto3"
   ]
  },
  {
   "cell_type": "code",
   "execution_count": 3,
   "id": "de67c280-b690-48ed-9a07-294f68b1d790",
   "metadata": {},
   "outputs": [],
   "source": [
    "s3_client = boto3.client('s3')"
   ]
  },
  {
   "cell_type": "code",
   "execution_count": 4,
   "id": "de3e7bcc-579e-4ba9-904f-c9100e7a75ca",
   "metadata": {},
   "outputs": [
    {
     "data": {
      "text/plain": [
       "botocore.client.S3"
      ]
     },
     "execution_count": 4,
     "metadata": {},
     "output_type": "execute_result"
    }
   ],
   "source": [
    "type(s3_client)"
   ]
  },
  {
   "cell_type": "code",
   "execution_count": 30,
   "id": "bb2fa0ab-7bfd-4cb8-9ea5-ac3fac221b77",
   "metadata": {
    "tags": []
   },
   "outputs": [],
   "source": [
    "bucket_names = s3_client.list_buckets()['Buckets']"
   ]
  },
  {
   "cell_type": "code",
   "execution_count": 31,
   "id": "357853f2-2bfd-4717-bd54-95429ed0d4fb",
   "metadata": {},
   "outputs": [],
   "source": [
    "bucket = bucket_names[0]"
   ]
  },
  {
   "cell_type": "code",
   "execution_count": 32,
   "id": "34ea0405-1b45-401f-98f4-1859c80d65b8",
   "metadata": {},
   "outputs": [
    {
     "data": {
      "text/plain": [
       "'backup-videos-corbin'"
      ]
     },
     "execution_count": 32,
     "metadata": {},
     "output_type": "execute_result"
    }
   ],
   "source": [
    "bucket['Name']"
   ]
  },
  {
   "cell_type": "code",
   "execution_count": null,
   "id": "869a2290-85bd-4075-9464-daaa4632b0f3",
   "metadata": {},
   "outputs": [],
   "source": [
    "my_bucket_name = [bucket['Name'] for bucket in bucket_names]"
   ]
  },
  {
   "cell_type": "code",
   "execution_count": 34,
   "id": "75cad2a1-317a-4f35-abb7-77657d44df8b",
   "metadata": {
    "collapsed": true,
    "jupyter": {
     "outputs_hidden": true
    },
    "tags": []
   },
   "outputs": [
    {
     "data": {
      "text/plain": [
       "[{'Name': 'backup-videos-corbin',\n",
       "  'CreationDate': datetime.datetime(2022, 11, 4, 7, 40, 20, tzinfo=tzutc())},\n",
       " {'Name': 'faulectureaudio',\n",
       "  'CreationDate': datetime.datetime(2019, 8, 26, 7, 51, 59, tzinfo=tzutc())},\n",
       " {'Name': 'faunewbucket123',\n",
       "  'CreationDate': datetime.datetime(2019, 10, 18, 7, 0, tzinfo=tzutc())},\n",
       " {'Name': 'isic2018task3masks',\n",
       "  'CreationDate': datetime.datetime(2023, 1, 1, 8, 46, 28, tzinfo=tzutc())}]"
      ]
     },
     "execution_count": 34,
     "metadata": {},
     "output_type": "execute_result"
    }
   ],
   "source": [
    "bucket_names"
   ]
  },
  {
   "cell_type": "code",
   "execution_count": null,
   "id": "1d2f432e-f8a5-4ecd-8043-274a92b7f051",
   "metadata": {},
   "outputs": [],
   "source": []
  }
 ],
 "metadata": {
  "kernelspec": {
   "display_name": "Python 3 (ipykernel)",
   "language": "python",
   "name": "python3"
  },
  "language_info": {
   "codemirror_mode": {
    "name": "ipython",
    "version": 3
   },
   "file_extension": ".py",
   "mimetype": "text/x-python",
   "name": "python",
   "nbconvert_exporter": "python",
   "pygments_lexer": "ipython3",
   "version": "3.9.12"
  }
 },
 "nbformat": 4,
 "nbformat_minor": 5
}
